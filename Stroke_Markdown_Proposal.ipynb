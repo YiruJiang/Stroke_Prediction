{
 "cells": [
  {
   "cell_type": "markdown",
   "id": "06e3212d-81ee-47c1-9b44-b663a687f1ae",
   "metadata": {},
   "source": [
    "Problematic Factors of Causing Strokes\n",
    "\n",
    "\n",
    "Introduction\n",
    "\t\n",
    "    Stroke is a serious medical condition with potentially life-altering consequences, making awareness, prevention, and early intervention vital in reducing its impact on individuals and public health. Through utilizing existing data related to stroke, we aim to predict whether family history of strokes, stress level and BMI have a relevant effect on causing strokes. The data set we will use consists of more than 15,000 records and 22 fields of stroke prediction datasets such as “Age”, “Gender”, “Smoking Status” and “Alcohol Intake”. We will be using this variety of data to predict the effects these factors have on causing strokes. \n",
    "\n",
    "\n",
    "Preliminary exploratory data analysis\n",
    "\t\n",
    "    The dataset we found on kaggle website can be uploaded to a Jupyter notebook by using the read_csv function. The dataset is originally tidy, so we don’t need to change anything to tidy it. To summarize the data, it contains 11250 observations in each class and 1873 missing data in rows. Besides, there are many possible leading factors to stroke in the training dataset, and we will mainly focus on average glucose level and stress level these two predictor variables. Meanwhile, we also want to analyze the role that family history plays in stroke.\n",
    "\tTo visualize the data, we will first use scatter plots to show the relationship between average glucose level and stress level, then apply K-nearest neighbor classification to predict stroke. After that, we will put the data of each predictor variable in histograms illustrating how they distribute respect to the number of stroke patients. Last but not least, we will convert the data of stroke family history into a bar chart, and observe how many portions does family history take up in all stroke patients.\n",
    "\n",
    "Methods \n",
    "1. Load Stroke Prediction data set into Jupyter notebook.\n",
    "2. Split data into training sets and testing sets \n",
    "3. Create a recipe and standardize the data (center and scale).\n",
    "4. Perform classification.\n",
    "5. Put the data together in workflow.\n",
    "6. Check the accuracy of k values. \n",
    "7. Compare the variables against each other using graphs. \n",
    "7. Predict the unknown data.\n",
    "8. Determine the prediction’s accuracy\n",
    "9. Summary of results\n",
    "\n",
    "We will conduct our data analysis by first loading the data set into the Jupyter Notebook. We will then split our data into training sets and testing sets. After creating a recipe, we will standardize our data center and scale our data (standardize). Next, we will perform the classification by putting the standardized data into a workflow. The workflow will help organize our data by putting together the recipe and our model. With the workflow, we will predict the unknown data and determine our prediction’s accuracy by calculating the distance of the k value. We will visualize our results with a scatterplot circling the unknown point and the neighboring k points categorized by color and a bar graph comparing the different variables. By comparing both our visualization and prediction, we will summarize our results. \n",
    "\n",
    "The variables and columns we want to utilize for conducting the data analysis should be relevant and helpful for making an accurate prediction. The ‘Patient Id’, ‘Patient Name’, ‘Age’, and ‘Gender’ are fundamental variables that we must incorporate. However, we determined variables such as ‘Marital Status’, ‘Work Type’, and ‘Residence Type’ as irrelevant and unnecessary variables that do not contribute to our data analysis and making an accurate prediction. All variables, excluding these three variables will be incorporated into making our data analysis as they are clearly relevant and can help us predict the factors that can possibly increase or decrease the odds of causing a stroke. \n",
    "\n",
    "Expected outcomes and significance\n",
    "\t\n",
    "    It is expected that individuals with a family history of stroke may have a higher risk of experiencing strokes themselves. Elevated stress levels are often associated with negative health outcomes, including an increased risk of cardiovascular problems. Therefore, it is expected that high stress levels may contribute to the risk of strokes. Body Mass Index (BMI) is a well-established risk factor for various health conditions, including stroke. Higher BMI values are associated with a higher risk of strokes, so it is expected that BMI will be a relevant predictor. If the study confirms the impact of family history, stress levels, and BMI on stroke risk, it could have important implications for medical practice and public health. Healthcare providers could use this information to assess risk and implement targeted prevention and intervention strategies. The future question can be whether specific genetic factors affect the probability of stroke. If family history is confirmed as a significant predictor, future research may delve deeper into the genetic factors that link family history to stroke risk. This could involve identifying specific genetic markers associated with increased susceptibility to strokes. Subsequent research may focus on the development and evaluation of stress reduction interventions and techniques to mitigate the impact of stress on stroke risk. \n"
   ]
  },
  {
   "cell_type": "code",
   "execution_count": null,
   "id": "c662f796-85cd-4f81-90b0-e565fa681788",
   "metadata": {},
   "outputs": [],
   "source": []
  }
 ],
 "metadata": {
  "kernelspec": {
   "display_name": "R",
   "language": "R",
   "name": "ir"
  },
  "language_info": {
   "codemirror_mode": "r",
   "file_extension": ".r",
   "mimetype": "text/x-r-source",
   "name": "R",
   "pygments_lexer": "r",
   "version": "4.2.2"
  }
 },
 "nbformat": 4,
 "nbformat_minor": 5
}
